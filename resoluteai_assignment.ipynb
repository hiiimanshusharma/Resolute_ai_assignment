{
  "nbformat": 4,
  "nbformat_minor": 0,
  "metadata": {
    "colab": {
      "provenance": []
    },
    "kernelspec": {
      "name": "python3",
      "display_name": "Python 3"
    },
    "language_info": {
      "name": "python"
    }
  },
  "cells": [
    {
      "cell_type": "code",
      "execution_count": 63,
      "metadata": {
        "colab": {
          "base_uri": "https://localhost:8080/"
        },
        "id": "kCN0GzqUEIb2",
        "outputId": "8eff81a6-8051-4db1-bb9c-a2bb5f7bc1bf"
      },
      "outputs": [
        {
          "output_type": "stream",
          "name": "stdout",
          "text": [
            "Looking in indexes: https://pypi.org/simple, https://us-python.pkg.dev/colab-wheels/public/simple/\n",
            "Requirement already satisfied: pytesseract in /usr/local/lib/python3.10/dist-packages (0.3.10)\n",
            "Requirement already satisfied: packaging>=21.3 in /usr/local/lib/python3.10/dist-packages (from pytesseract) (23.1)\n",
            "Requirement already satisfied: Pillow>=8.0.0 in /usr/local/lib/python3.10/dist-packages (from pytesseract) (8.4.0)\n",
            "Reading package lists... Done\n",
            "Building dependency tree       \n",
            "Reading state information... Done\n",
            "tesseract-ocr is already the newest version (4.1.1-2build2).\n",
            "0 upgraded, 0 newly installed, 0 to remove and 24 not upgraded.\n"
          ]
        }
      ],
      "source": [
        "# installing the pyteserract library\n",
        "!pip install pytesseract\n",
        "!sudo apt-get install tesseract-ocr"
      ]
    },
    {
      "cell_type": "code",
      "source": [
        "#install pdf2image library and poppler to allowing to read and render pdf documents\n",
        "!pip install pdf2image\n",
        "!sudo apt-get install poppler-utils"
      ],
      "metadata": {
        "colab": {
          "base_uri": "https://localhost:8080/"
        },
        "id": "ZNQjHY3cGZqH",
        "outputId": "d0da6676-5c62-4c8d-fc56-d06144b8408f"
      },
      "execution_count": 64,
      "outputs": [
        {
          "output_type": "stream",
          "name": "stdout",
          "text": [
            "Looking in indexes: https://pypi.org/simple, https://us-python.pkg.dev/colab-wheels/public/simple/\n",
            "Requirement already satisfied: pdf2image in /usr/local/lib/python3.10/dist-packages (1.16.3)\n",
            "Requirement already satisfied: pillow in /usr/local/lib/python3.10/dist-packages (from pdf2image) (8.4.0)\n",
            "Reading package lists... Done\n",
            "Building dependency tree       \n",
            "Reading state information... Done\n",
            "poppler-utils is already the newest version (0.86.1-0ubuntu1.1).\n",
            "0 upgraded, 0 newly installed, 0 to remove and 24 not upgraded.\n"
          ]
        }
      ]
    },
    {
      "cell_type": "code",
      "source": [
        "# installing magic library for checking function of checking format of filepath\n",
        "!sudo apt-get install python3-magic"
      ],
      "metadata": {
        "colab": {
          "base_uri": "https://localhost:8080/"
        },
        "id": "SRq6SghkGf-6",
        "outputId": "c5b9e0c9-f4d3-447e-9ae0-54c64d15eaf4"
      },
      "execution_count": 66,
      "outputs": [
        {
          "output_type": "stream",
          "name": "stdout",
          "text": [
            "Reading package lists... Done\n",
            "Building dependency tree       \n",
            "Reading state information... Done\n",
            "python3-magic is already the newest version (2:0.4.15-3).\n",
            "0 upgraded, 0 newly installed, 0 to remove and 24 not upgraded.\n"
          ]
        }
      ]
    },
    {
      "cell_type": "code",
      "source": [
        "import cv2\n",
        "import numpy as np\n",
        "import pytesseract\n",
        "import matplotlib.pyplot as plt\n",
        "import pandas as pd\n",
        "from PIL import Image\n",
        "import magic\n",
        "import os\n",
        "from pdf2image import convert_from_path"
      ],
      "metadata": {
        "id": "G2nb3b-hGKpk"
      },
      "execution_count": 56,
      "outputs": []
    },
    {
      "cell_type": "code",
      "source": [
        "def display(img,title):\n",
        "  fig = plt.figure(figsize=(8,8))\n",
        "  ax = fig.add_subplot(111)\n",
        "  ax.set_title(title)\n",
        "  ax.imshow(img,cmap='gray')"
      ],
      "metadata": {
        "id": "jFRRWDPUGTdC"
      },
      "execution_count": 67,
      "outputs": []
    },
    {
      "cell_type": "code",
      "source": [
        "#function for extracting text out of pdf file\n",
        "def pdf_to_text(filepath):\n",
        "  doc = convert_from_path(filepath)\n",
        "  path, fileName = os.path.split(filepath)\n",
        "  fileBaseName, fileExtension = os.path.splitext(fileName)\n",
        "\n",
        "  for page_number, page_data in enumerate(doc):\n",
        "      txt = pytesseract.image_to_string(page_data).encode(\"utf-8\").decode(\"utf-8\")\n",
        "      print(\"Page # {} - {}\".format(str(page_number),txt))"
      ],
      "metadata": {
        "id": "4zw6ZrdCLW0q"
      },
      "execution_count": 43,
      "outputs": []
    },
    {
      "cell_type": "code",
      "source": [
        "#function for extracting text out of image\n",
        "def image_to_text(filepath):\n",
        "  img = cv2.imread(filepath)\n",
        "  display(img,'Image')\n",
        "  gray = cv2.cvtColor(img, cv2.COLOR_BGR2GRAY)\n",
        "  th, threshed = cv2.threshold(gray, 127, 255, cv2.THRESH_TRUNC)\n",
        "\n",
        "  noise=cv2.medianBlur(gray,3)\n",
        "\n",
        "  adaptive_threshold = cv2.adaptiveThreshold(noise,255, cv2.ADAPTIVE_THRESH_GAUSSIAN_C,cv2.THRESH_BINARY ,85, 11 )\n",
        "  display(adaptive_threshold,'Adaptive Threshold')\n",
        "  txt = pytesseract.image_to_string(adaptive_threshold)\n",
        "  print(txt)"
      ],
      "metadata": {
        "id": "idxnGSNOJ-kA"
      },
      "execution_count": 59,
      "outputs": []
    },
    {
      "cell_type": "code",
      "source": [
        "# function for checking format of filepath\n",
        "def extract_text(file_path):\n",
        "    file_mime_type = magic.from_file(file_path, mime=True) #using magic library\n",
        "    if file_mime_type == 'application/pdf':\n",
        "        return pdf_to_text(file_path)  # calling pdf_to_text when filepath format is pdf\n",
        "    elif file_mime_type.startswith('image/'):\n",
        "        return image_to_text(file_path) #calling image_to_text when filepath format is image\n",
        "    else:\n",
        "        return 'file format other that image/pdf' "
      ],
      "metadata": {
        "id": "d8YZ3nO7KStc"
      },
      "execution_count": 45,
      "outputs": []
    },
    {
      "cell_type": "code",
      "source": [
        "#user story\n",
        "print('Enter path of your file\\n')\n",
        "filepath = input()"
      ],
      "metadata": {
        "colab": {
          "base_uri": "https://localhost:8080/"
        },
        "id": "PR6TIuPyJust",
        "outputId": "8f678b47-2b66-40ea-f8e8-2b08a5b9aaca"
      },
      "execution_count": 74,
      "outputs": [
        {
          "name": "stdout",
          "output_type": "stream",
          "text": [
            "Enter path of your file\n",
            "\n",
            "/content/drive/MyDrive/Resolute_ai/Data/Data/Task1/table.pdf\n"
          ]
        }
      ]
    },
    {
      "cell_type": "code",
      "source": [
        "extract_text(filepath)"
      ],
      "metadata": {
        "colab": {
          "base_uri": "https://localhost:8080/"
        },
        "id": "rd5Go5nYJ2SJ",
        "outputId": "a9b03b7c-f478-493c-9036-fa4b8f138348"
      },
      "execution_count": 75,
      "outputs": [
        {
          "output_type": "stream",
          "name": "stdout",
          "text": [
            "Page # 0 - NATIONAL PARTNERSHIP FOR QUALITY AFTERSCHOOL LEARNING\n",
            "www.sedl.org/afterschool/toolkits\n",
            "\n",
            "AFTERSCHOOL TRAINING TOOLKIT\n",
            "\n",
            "Tutoring to Enhance Science Skills\n",
            "Tutoring Two: Learning to Make Data Tables\n",
            "\n",
            "Sample Data for Data Tables\n",
            "\n",
            "Use these data to create data tables following the Guidelines for Making a Data Table and\n",
            "Checklist for a Data Table.\n",
            "\n",
            "Example 1: Pet Survey (GR 2-3)\n",
            "Ms. Hubert’s afterschool students took a survey of the 600 students at Morales Elementary\n",
            "School. Students were asked to select their favorite pet from a list of eight animals. Here\n",
            "are the results.\n",
            "\n",
            "Lizard 25, Dog 250, Cat 115, Bird 50, Guinea pig 30, Hamster 45, Fish 75,\n",
            "\n",
            "Ferret 10\n",
            "\n",
            "Example 2: Electromagnets—Increasing Coils (GR 3-5)\n",
            "\n",
            "The following data were collected using an electromagnet with a 1.5 volt battery, a switch,\n",
            "a piece of #20 insulated wire, and a nail. Three trials were run. Safety precautions in\n",
            "repeating this experiment include using safety goggles or safety spectacles and avoiding\n",
            "short circuits.\n",
            "\n",
            "Number of Coils Number of Paperclips\n",
            "\n",
            "11, 10, 12\n",
            "15, 13, 14\n",
            "\n",
            " \n",
            "\n",
            "Example 3: pH of Substances (GR 5-10)\n",
            "\n",
            "The following are pH values of common household substances taken by three different\n",
            "teams using pH probes. Safety precautions in repeating this experiment include hooded\n",
            "ventilation, chemical-splash safety goggles, gloves, and apron. Do not use bleach,\n",
            "ammonia, or strong acids with children.\n",
            "\n",
            "Lemon juice 2.4, 2.0, 2.2; Baking soda (1 Tbsp) in Water (1 cup) 8.4, 8.3, 8.7;\n",
            "Orange juice 3.5, 4.0, 3.4; Battery acid 1.0, 0.7, 0.5; Apples 3.0, 3.2, 3.5;\n",
            "Tomatoes 4.5, 4.2, 4.0; Bottled water 6.7, 7.0, 7.2; Milk of magnesia 10.5, 10.3,\n",
            "10.6; Liquid hand soap 9.0, 10.0, 9.5; Vinegar 2.2, 2.9, 3.0; Household bleach\n",
            "12.5, 12.5, 12.7; Milk 6.6, 6.5, 6.4; Household ammonia 11.5, 11.0, 11.5;\n",
            "\n",
            "Lye 13.0, 13.5, 13.4; and Sodium hydroxide 14.0, 14.0, 13.9; Anti-freeze 10.1,\n",
            "10.9, 9.7; Windex 9.9. 10.2, 9.5; Liquid detergent 10.5, 10.0, 10.3; and\n",
            "\n",
            "Cola 3.0, 2.5, 3.2\n",
            "\n",
            "Teaching tip: The pH scale is from 0 to 14. Have students make two data tables, one\n",
            "with the data as given and one with the pH scale 0 to 14 with the substances’ average\n",
            "DH in rank order on the scale (Battery acid at the lower end and Sodium hydroxide at\n",
            "the upper end) or create a pH graphic organizer.\n",
            "\n",
            "1\n",
            "\f\n",
            "Page # 1 - Example 4: Automobile Land Speed Records (GR 5-10)\n",
            "\n",
            "In the first recorded automobile race in 1898, Count Gaston de Chasseloup-Laubat of\n",
            "Paris, France, drove 1 kilometer in 57 seconds for an average speed of 39.2 miles per hour\n",
            "(mph) or 63.1 kilometers per hour (kph). In 1904, Henry Ford drove his Ford Arrow across\n",
            "frozen Lake St. Clair, MI, at an average speed of 91.4 mph. Now, the North American\n",
            "Eagle is trying to break a land speed record of 800 mph. The Federation International de\n",
            "L’Automobile (FIA), the world’s governing body for motor sport and land speed records,\n",
            "recorded the following land speed records. (Retrieved on February 5, 2006, from\n",
            "http://www.landspeed.com/Isrinfo.asp. )\n",
            "\n",
            "Example 5: Distance and Time (GR 8-10)\n",
            "\n",
            "The following data were collected using a car with a water clock set to release a drop in\n",
            "\n",
            "a unit of time and a meter stick. The car rolled down an inclined plane. Three trials were\n",
            "run. Create a data table with an average distance column and an average velocity column,\n",
            "create an average distance-time graph, and draw the best-fit line or curve. Estimate the\n",
            "car’s distance traveled and velocity at six drops of water. Describe the motion of the car. Is\n",
            "it going at a constant speed, accelerating, or decelerating? How do you know?\n",
            "\n",
            "Time (drops of water) Distance (cm)\n",
            "29, 31, 30\n",
            "\n",
            " \n",
            "\n",
            " \n",
            "\n",
            " \n",
            "\n",
            "59, 58, 61\n",
            "102, 100, 98\n",
            "122, 125, 127\n",
            "\n",
            " \n",
            "\n",
            "© 2006 WGBH Educational Foundation. All rights reserved.\n",
            "2\n",
            "\f\n"
          ]
        }
      ]
    }
  ]
}